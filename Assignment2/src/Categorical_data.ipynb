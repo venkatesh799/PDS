{
 "cells": [
  {
   "cell_type": "code",
   "execution_count": 1,
   "id": "96d826a5",
   "metadata": {},
   "outputs": [],
   "source": [
    "# importing libraries\n",
    "\n",
    "import pandas as pd"
   ]
  },
  {
   "cell_type": "code",
   "execution_count": 5,
   "id": "e3bc085d",
   "metadata": {},
   "outputs": [],
   "source": [
    "data = pd.read_csv(\"..//cars_clean_data//cars_clean_data.csv\")"
   ]
  },
  {
   "cell_type": "code",
   "execution_count": 6,
   "id": "b3bac32e",
   "metadata": {},
   "outputs": [
    {
     "data": {
      "text/html": [
       "<div>\n",
       "<style scoped>\n",
       "    .dataframe tbody tr th:only-of-type {\n",
       "        vertical-align: middle;\n",
       "    }\n",
       "\n",
       "    .dataframe tbody tr th {\n",
       "        vertical-align: top;\n",
       "    }\n",
       "\n",
       "    .dataframe thead th {\n",
       "        text-align: right;\n",
       "    }\n",
       "</style>\n",
       "<table border=\"1\" class=\"dataframe\">\n",
       "  <thead>\n",
       "    <tr style=\"text-align: right;\">\n",
       "      <th></th>\n",
       "      <th>Name</th>\n",
       "      <th>Location</th>\n",
       "      <th>Year</th>\n",
       "      <th>Kilometers_Driven</th>\n",
       "      <th>Fuel_Type</th>\n",
       "      <th>Transmission</th>\n",
       "      <th>Owner_Type</th>\n",
       "      <th>Mileage</th>\n",
       "      <th>Engine</th>\n",
       "      <th>Power</th>\n",
       "      <th>Seats</th>\n",
       "      <th>Price</th>\n",
       "    </tr>\n",
       "  </thead>\n",
       "  <tbody>\n",
       "    <tr>\n",
       "      <th>0</th>\n",
       "      <td>Hyundai Creta 1.6 CRDi SX Option</td>\n",
       "      <td>Pune</td>\n",
       "      <td>2015</td>\n",
       "      <td>41000</td>\n",
       "      <td>Diesel</td>\n",
       "      <td>Manual</td>\n",
       "      <td>First</td>\n",
       "      <td>19.67</td>\n",
       "      <td>1582.0</td>\n",
       "      <td>126.20</td>\n",
       "      <td>5.0</td>\n",
       "      <td>12.50</td>\n",
       "    </tr>\n",
       "    <tr>\n",
       "      <th>1</th>\n",
       "      <td>Honda Jazz V</td>\n",
       "      <td>Chennai</td>\n",
       "      <td>2011</td>\n",
       "      <td>46000</td>\n",
       "      <td>Petrol</td>\n",
       "      <td>Manual</td>\n",
       "      <td>First</td>\n",
       "      <td>18.19</td>\n",
       "      <td>1199.0</td>\n",
       "      <td>88.70</td>\n",
       "      <td>5.0</td>\n",
       "      <td>4.50</td>\n",
       "    </tr>\n",
       "    <tr>\n",
       "      <th>2</th>\n",
       "      <td>Maruti Ertiga VDI</td>\n",
       "      <td>Chennai</td>\n",
       "      <td>2012</td>\n",
       "      <td>87000</td>\n",
       "      <td>Diesel</td>\n",
       "      <td>Manual</td>\n",
       "      <td>First</td>\n",
       "      <td>20.77</td>\n",
       "      <td>1248.0</td>\n",
       "      <td>88.76</td>\n",
       "      <td>7.0</td>\n",
       "      <td>6.00</td>\n",
       "    </tr>\n",
       "    <tr>\n",
       "      <th>3</th>\n",
       "      <td>Audi A4 New 2.0 TDI Multitronic</td>\n",
       "      <td>Coimbatore</td>\n",
       "      <td>2013</td>\n",
       "      <td>40670</td>\n",
       "      <td>Diesel</td>\n",
       "      <td>Automatic</td>\n",
       "      <td>Second</td>\n",
       "      <td>15.20</td>\n",
       "      <td>1968.0</td>\n",
       "      <td>140.80</td>\n",
       "      <td>5.0</td>\n",
       "      <td>17.74</td>\n",
       "    </tr>\n",
       "    <tr>\n",
       "      <th>4</th>\n",
       "      <td>Nissan Micra Diesel XV</td>\n",
       "      <td>Jaipur</td>\n",
       "      <td>2013</td>\n",
       "      <td>86999</td>\n",
       "      <td>Diesel</td>\n",
       "      <td>Manual</td>\n",
       "      <td>First</td>\n",
       "      <td>23.08</td>\n",
       "      <td>1461.0</td>\n",
       "      <td>63.10</td>\n",
       "      <td>5.0</td>\n",
       "      <td>3.50</td>\n",
       "    </tr>\n",
       "  </tbody>\n",
       "</table>\n",
       "</div>"
      ],
      "text/plain": [
       "                               Name    Location  Year  Kilometers_Driven  \\\n",
       "0  Hyundai Creta 1.6 CRDi SX Option        Pune  2015              41000   \n",
       "1                      Honda Jazz V     Chennai  2011              46000   \n",
       "2                 Maruti Ertiga VDI     Chennai  2012              87000   \n",
       "3   Audi A4 New 2.0 TDI Multitronic  Coimbatore  2013              40670   \n",
       "4            Nissan Micra Diesel XV      Jaipur  2013              86999   \n",
       "\n",
       "  Fuel_Type Transmission Owner_Type  Mileage  Engine   Power  Seats  Price  \n",
       "0    Diesel       Manual      First    19.67  1582.0  126.20    5.0  12.50  \n",
       "1    Petrol       Manual      First    18.19  1199.0   88.70    5.0   4.50  \n",
       "2    Diesel       Manual      First    20.77  1248.0   88.76    7.0   6.00  \n",
       "3    Diesel    Automatic     Second    15.20  1968.0  140.80    5.0  17.74  \n",
       "4    Diesel       Manual      First    23.08  1461.0   63.10    5.0   3.50  "
      ]
     },
     "execution_count": 6,
     "metadata": {},
     "output_type": "execute_result"
    }
   ],
   "source": [
    "data.head()"
   ]
  },
  {
   "cell_type": "code",
   "execution_count": 7,
   "id": "67f407d6",
   "metadata": {},
   "outputs": [],
   "source": [
    "# the data looks clean"
   ]
  },
  {
   "cell_type": "markdown",
   "id": "b52be1f3",
   "metadata": {},
   "source": [
    "#### C) Change the categorical variables (“Fuel_Type” and “Transmission”) into numerical one hot encoded value. "
   ]
  },
  {
   "cell_type": "code",
   "execution_count": 8,
   "id": "364dd5b1",
   "metadata": {},
   "outputs": [],
   "source": [
    "data = pd.get_dummies(data, columns=['Fuel_Type', 'Transmission'])"
   ]
  },
  {
   "cell_type": "code",
   "execution_count": 13,
   "id": "ef4c44c5",
   "metadata": {},
   "outputs": [
    {
     "name": "stdout",
     "output_type": "stream",
     "text": [
      "                               Name    Location  Year  Kilometers_Driven  \\\n",
      "0  Hyundai Creta 1.6 CRDi SX Option        Pune  2015              41000   \n",
      "1                      Honda Jazz V     Chennai  2011              46000   \n",
      "2                 Maruti Ertiga VDI     Chennai  2012              87000   \n",
      "3   Audi A4 New 2.0 TDI Multitronic  Coimbatore  2013              40670   \n",
      "4            Nissan Micra Diesel XV      Jaipur  2013              86999   \n",
      "\n",
      "  Owner_Type  Mileage  Engine   Power  Seats  Price  Fuel_Type_Diesel  \\\n",
      "0      First    19.67  1582.0  126.20    5.0  12.50                 1   \n",
      "1      First    18.19  1199.0   88.70    5.0   4.50                 0   \n",
      "2      First    20.77  1248.0   88.76    7.0   6.00                 1   \n",
      "3     Second    15.20  1968.0  140.80    5.0  17.74                 1   \n",
      "4      First    23.08  1461.0   63.10    5.0   3.50                 1   \n",
      "\n",
      "   Fuel_Type_Electric  Fuel_Type_Petrol  Transmission_Automatic  \\\n",
      "0                   0                 0                       0   \n",
      "1                   0                 1                       0   \n",
      "2                   0                 0                       0   \n",
      "3                   0                 0                       1   \n",
      "4                   0                 0                       0   \n",
      "\n",
      "   Transmission_Manual  \n",
      "0                    1  \n",
      "1                    1  \n",
      "2                    1  \n",
      "3                    0  \n",
      "4                    1  \n"
     ]
    }
   ],
   "source": [
    "print(data.head())"
   ]
  },
  {
   "cell_type": "code",
   "execution_count": 12,
   "id": "20797578",
   "metadata": {},
   "outputs": [],
   "source": [
    "# Saving data set\n",
    "data.to_csv('..//results//encoded_car_data.csv',index=False)"
   ]
  },
  {
   "cell_type": "code",
   "execution_count": null,
   "id": "15232f04",
   "metadata": {},
   "outputs": [],
   "source": []
  }
 ],
 "metadata": {
  "kernelspec": {
   "display_name": "Python 3 (ipykernel)",
   "language": "python",
   "name": "python3"
  },
  "language_info": {
   "codemirror_mode": {
    "name": "ipython",
    "version": 3
   },
   "file_extension": ".py",
   "mimetype": "text/x-python",
   "name": "python",
   "nbconvert_exporter": "python",
   "pygments_lexer": "ipython3",
   "version": "3.9.13"
  }
 },
 "nbformat": 4,
 "nbformat_minor": 5
}
